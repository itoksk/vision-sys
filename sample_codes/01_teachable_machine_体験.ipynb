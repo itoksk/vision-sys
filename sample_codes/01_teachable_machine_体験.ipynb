{
 "cells": [
  {
   "cell_type": "markdown",
   "metadata": {},
   "source": "# Teachable Machine 体験用サンプルコード\n\nこのノートブックでは、Teachable Machineで作成したモデルを使って画像認識を行います。\n\n## 事前準備\n1. Teachable Machine (https://teachablemachine.withgoogle.com/) でモデルを作成\n2. モデルをエクスポート（重要：以下の手順で行ってください）\n   - 「モデルをエクスポート」をクリック\n   - 「Tensorflow」タブを選択\n   - 「Keras」を選択\n   - 「モデルをダウンロード」をクリック\n3. `keras_model.h5`と`labels.txt`をダウンロード"
  },
  {
   "cell_type": "code",
   "execution_count": null,
   "metadata": {},
   "outputs": [],
   "source": [
    "# 必要なライブラリのインストール\n",
    "!pip install tensorflow pillow opencv-python numpy"
   ]
  },
  {
   "cell_type": "code",
   "execution_count": null,
   "metadata": {},
   "outputs": [],
   "source": [
    "# Google Driveのマウント（モデルファイルを保存している場合）\n",
    "from google.colab import drive\n",
    "drive.mount('/content/drive')"
   ]
  },
  {
   "cell_type": "code",
   "execution_count": null,
   "metadata": {},
   "outputs": [],
   "source": [
    "# ライブラリのインポート\n",
    "import tensorflow as tf\n",
    "import numpy as np\n",
    "from PIL import Image\n",
    "import cv2\n",
    "from google.colab import files\n",
    "import matplotlib.pyplot as plt\n",
    "import matplotlib.font_manager as fm\n",
    "\n",
    "# 日本語フォントの設定\n",
    "!apt-get -y install fonts-ipafont-gothic\n",
    "plt.rcParams['font.family'] = 'IPAGothic'"
   ]
  },
  {
   "cell_type": "markdown",
   "metadata": {},
   "source": [
    "## モデルファイルのアップロード\n",
    "Teachable Machineからダウンロードした`keras_model.h5`と`labels.txt`をアップロードしてください。"
   ]
  },
  {
   "cell_type": "code",
   "execution_count": null,
   "metadata": {},
   "outputs": [],
   "source": [
    "# モデルファイルのアップロード\n",
    "print(\"keras_model.h5 と labels.txt をアップロードしてください\")\n",
    "uploaded = files.upload()"
   ]
  },
  {
   "cell_type": "code",
   "execution_count": null,
   "metadata": {},
   "outputs": [],
   "source": [
    "# モデルとラベルの読み込み\n",
    "model = tf.keras.models.load_model('keras_model.h5', compile=False)\n",
    "\n",
    "# ラベルの読み込み\n",
    "with open('labels.txt', 'r', encoding='utf-8') as f:\n",
    "    labels = [line.strip() for line in f.readlines()]\n",
    "\n",
    "print(\"モデルの読み込み完了！\")\n",
    "print(f\"認識できるクラス: {labels}\")"
   ]
  },
  {
   "cell_type": "markdown",
   "metadata": {},
   "source": [
    "## 画像認識関数の定義"
   ]
  },
  {
   "cell_type": "code",
   "execution_count": null,
   "metadata": {},
   "outputs": [],
   "source": [
    "def predict_image(image_path):\n",
    "    \"\"\"\n",
    "    画像を読み込んで予測を行う関数\n",
    "    \"\"\"\n",
    "    # 画像の読み込みと前処理\n",
    "    img = Image.open(image_path).convert('RGB')\n",
    "    img = img.resize((224, 224))  # Teachable Machineは224x224を期待\n",
    "    \n",
    "    # numpy配列に変換して正規化\n",
    "    img_array = np.array(img) / 255.0\n",
    "    img_array = np.expand_dims(img_array, axis=0)\n",
    "    \n",
    "    # 予測実行\n",
    "    predictions = model.predict(img_array)\n",
    "    \n",
    "    # 結果を辞書形式で返す\n",
    "    results = {}\n",
    "    for i, label in enumerate(labels):\n",
    "        # ラベルから番号を除去（例: \"0 良品\" → \"良品\"）\n",
    "        clean_label = label.split(' ', 1)[1] if ' ' in label else label\n",
    "        results[clean_label] = float(predictions[0][i])\n",
    "    \n",
    "    return results, img\n",
    "\n",
    "def display_results(image_path):\n",
    "    \"\"\"\n",
    "    画像と予測結果を表示する関数\n",
    "    \"\"\"\n",
    "    results, img = predict_image(image_path)\n",
    "    \n",
    "    # 画像と結果を表示\n",
    "    fig, (ax1, ax2) = plt.subplots(1, 2, figsize=(12, 5))\n",
    "    \n",
    "    # 画像表示\n",
    "    ax1.imshow(img)\n",
    "    ax1.axis('off')\n",
    "    ax1.set_title('入力画像', fontsize=14)\n",
    "    \n",
    "    # 結果をグラフで表示\n",
    "    labels_clean = list(results.keys())\n",
    "    values = list(results.values())\n",
    "    colors = ['green' if v == max(values) else 'gray' for v in values]\n",
    "    \n",
    "    bars = ax2.barh(labels_clean, values, color=colors)\n",
    "    ax2.set_xlabel('確率', fontsize=12)\n",
    "    ax2.set_title('予測結果', fontsize=14)\n",
    "    ax2.set_xlim(0, 1)\n",
    "    \n",
    "    # 値をバーの上に表示\n",
    "    for bar, value in zip(bars, values):\n",
    "        ax2.text(value + 0.01, bar.get_y() + bar.get_height()/2, \n",
    "                f'{value:.1%}', va='center')\n",
    "    \n",
    "    plt.tight_layout()\n",
    "    plt.show()\n",
    "    \n",
    "    # 最も確率の高いクラスを表示\n",
    "    max_label = max(results, key=results.get)\n",
    "    max_prob = results[max_label]\n",
    "    print(f\"\\n予測結果: {max_label} (確率: {max_prob:.1%})\")"
   ]
  },
  {
   "cell_type": "markdown",
   "metadata": {},
   "source": [
    "## 画像のアップロードと認識"
   ]
  },
  {
   "cell_type": "code",
   "execution_count": null,
   "metadata": {},
   "outputs": [],
   "source": [
    "# 画像をアップロード\n",
    "print(\"認識したい画像をアップロードしてください\")\n",
    "uploaded = files.upload()\n",
    "\n",
    "# アップロードされた画像を認識\n",
    "for filename in uploaded.keys():\n",
    "    print(f\"\\n=== {filename} の認識結果 ===\")\n",
    "    display_results(filename)"
   ]
  },
  {
   "cell_type": "markdown",
   "metadata": {},
   "source": [
    "## カメラから画像を撮影して認識\n",
    "Google Colabのカメラ機能を使って、その場で撮影した画像を認識します。"
   ]
  },
  {
   "cell_type": "code",
   "execution_count": null,
   "metadata": {},
   "outputs": [],
   "source": [
    "from IPython.display import display, Javascript\n",
    "from google.colab.output import eval_js\n",
    "from base64 import b64decode\n",
    "import io\n",
    "\n",
    "def take_photo(filename='photo.jpg', quality=0.8):\n",
    "    js = Javascript('''\n",
    "    async function takePhoto(quality) {\n",
    "      const div = document.createElement('div');\n",
    "      const capture = document.createElement('button');\n",
    "      capture.textContent = '撮影';\n",
    "      div.appendChild(capture);\n",
    "\n",
    "      const video = document.createElement('video');\n",
    "      video.style.display = 'block';\n",
    "      const stream = await navigator.mediaDevices.getUserMedia({video: true});\n",
    "\n",
    "      document.body.appendChild(div);\n",
    "      div.appendChild(video);\n",
    "      video.srcObject = stream;\n",
    "      await video.play();\n",
    "\n",
    "      // Resize the output to fit the video element.\n",
    "      google.colab.output.setIframeHeight(document.documentElement.scrollHeight, true);\n",
    "\n",
    "      // Wait for Capture to be clicked.\n",
    "      await new Promise((resolve) => capture.onclick = resolve);\n",
    "\n",
    "      const canvas = document.createElement('canvas');\n",
    "      canvas.width = video.videoWidth;\n",
    "      canvas.height = video.videoHeight;\n",
    "      canvas.getContext('2d').drawImage(video, 0, 0);\n",
    "      stream.getVideoTracks()[0].stop();\n",
    "      div.remove();\n",
    "      return canvas.toDataURL('image/jpeg', quality);\n",
    "    }\n",
    "    ''')\n",
    "    display(js)\n",
    "    data = eval_js('takePhoto({})'.format(quality))\n",
    "    binary = b64decode(data.split(',')[1])\n",
    "    with open(filename, 'wb') as f:\n",
    "        f.write(binary)\n",
    "    return filename\n",
    "\n",
    "# カメラで撮影\n",
    "print(\"カメラで画像を撮影します\")\n",
    "filename = take_photo()\n",
    "print(f\"撮影完了: {filename}\")\n",
    "\n",
    "# 撮影した画像を認識\n",
    "display_results(filename)"
   ]
  },
  {
   "cell_type": "markdown",
   "metadata": {},
   "source": [
    "## まとめ\n",
    "\n",
    "このサンプルコードでは：\n",
    "1. Teachable Machineで作成したモデルを読み込み\n",
    "2. 画像をアップロードまたは撮影して認識\n",
    "3. 結果をグラフで分かりやすく表示\n",
    "\n",
    "次のステップ：\n",
    "- より多くのデータで学習してモデルの精度を向上\n",
    "- リアルタイムでの認識に挑戦\n",
    "- 実際の製造現場での活用を検討"
   ]
  }
 ],
 "metadata": {
  "kernelspec": {
   "display_name": "Python 3",
   "language": "python",
   "name": "python3"
  },
  "language_info": {
   "codemirror_mode": {
    "name": "ipython",
    "version": 3
   },
   "file_extension": ".py",
   "mimetype": "text/x-python",
   "name": "python",
   "nbconvert_exporter": "python",
   "pygments_lexer": "ipython3",
   "version": "3.8.0"
  }
 },
 "nbformat": 4,
 "nbformat_minor": 4
}